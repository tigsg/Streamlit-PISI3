{
 "cells": [
  {
   "cell_type": "code",
   "execution_count": null,
   "id": "88dfee59-8112-425e-8db7-95959a424777",
   "metadata": {},
   "outputs": [],
   "source": [
    "#Análise exploratória dos resultados da clusterização\n",
    "#Importando bibliotecas\n",
    "import pandas as pd\n",
    "import numpy as np\n",
    "import plotly.express as px\n",
    "import plotly.graph_objects as go"
   ]
  },
  {
   "cell_type": "code",
   "execution_count": null,
   "id": "201a3dec-0da2-4a3e-932e-57663bc45a99",
   "metadata": {},
   "outputs": [],
   "source": [
    "#Carregando dados\n",
    "dataset = pd.read_parquet(\"dataset_com_clusters.parquet\")"
   ]
  },
  {
   "cell_type": "code",
   "execution_count": null,
   "id": "c8cb6af7-df52-4f1b-b80e-1c229d2d790d",
   "metadata": {},
   "outputs": [],
   "source": [
    "#Explorando os clusters provenientes do KModes (clusterização dos dados categóricos)\n",
    "cores_cinema = [\n",
    "    \"#1F77B4\", \"#FF7F0E\", \"#2CA02C\", \"#D62728\", \"#9467BD\", \n",
    "    \"#8C564B\", \"#E377C2\", \"#7F7F7F\", \"#BCBD22\", \"#17BECF\"\n",
    "]\n",
    "\n",
    "cluster0kmodes = dataset[dataset['cluster'] == 0]\n",
    "cluster1kmodes = dataset[dataset['cluster'] == 1]\n",
    "cluster2kmodes = dataset[dataset['cluster'] == 2]\n",
    "cluster3kmodes = dataset[dataset['cluster'] == 3]\n",
    "cluster4kmodes = dataset[dataset['cluster'] == 4]\n",
    "cluster5kmodes = dataset[dataset['cluster'] == 5]"
   ]
  },
  {
   "cell_type": "code",
   "execution_count": null,
   "id": "d5a389c5-ee14-4220-ae56-543b5f2fb609",
   "metadata": {},
   "outputs": [],
   "source": [
    "def grafico_barras(cluster, data, coluna, qtd):\n",
    "    contagem = data.groupby(coluna).size()\n",
    "    top_10_contagem = contagem.nlargest(qtd)\n",
    "    top_10_contagem = top_10_contagem.sort_values(ascending=True)\n",
    "    fig = px.bar(top_10_contagem, x=top_10_contagem.values, y=top_10_contagem.index, title=f\"{coluna} mais presentes no cluster {cluster}\", labels={\"x\": \"Contagem\", coluna: coluna})\n",
    "    fig.update_traces(marker=dict(color=cores_cinema))\n",
    "    return fig"
   ]
  },
  {
   "cell_type": "code",
   "execution_count": null,
   "id": "da9422cf-da73-4654-ba24-02a9fa32755b",
   "metadata": {},
   "outputs": [],
   "source": [
    "#Gêneros mais presentes no cluster 0\n",
    "fig = grafico_barras('0', cluster0kmodes, 'genres', 5)\n",
    "fig.show()"
   ]
  },
  {
   "cell_type": "code",
   "execution_count": null,
   "id": "ee0c0b15-3c4f-4df5-8b60-760f583e4238",
   "metadata": {},
   "outputs": [],
   "source": [
    "#Gêneros mais presentes no cluster 1\n",
    "fig = grafico_barras('1', cluster1kmodes, 'genres', 5)\n",
    "fig.show()"
   ]
  },
  {
   "cell_type": "code",
   "execution_count": null,
   "id": "b53226ff-c73a-430e-9705-1a7eff7d7af3",
   "metadata": {},
   "outputs": [],
   "source": [
    "#Gêneros mais presentes no cluster 2\n",
    "fig = grafico_barras('2', cluster2kmodes, 'genres', 5)\n",
    "fig.show()"
   ]
  },
  {
   "cell_type": "code",
   "execution_count": null,
   "id": "e68c96fd-2db3-4447-bfbb-a3b6dfa3a7a2",
   "metadata": {},
   "outputs": [],
   "source": [
    "#Gêneros mais presentes no cluster 3\n",
    "fig = grafico_barras('3', cluster3kmodes, 'genres', 5)\n",
    "fig.show()"
   ]
  },
  {
   "cell_type": "code",
   "execution_count": null,
   "id": "6fa99004-0c46-4089-8d9f-e52f2dbbb2d3",
   "metadata": {},
   "outputs": [],
   "source": [
    "#Gêneros mais presentes no cluster 4\n",
    "fig = grafico_barras('4', cluster4kmodes, 'genres', 5)\n",
    "fig.show()"
   ]
  },
  {
   "cell_type": "code",
   "execution_count": null,
   "id": "ede50fd4-5850-49a0-88eb-4e9d932de6a6",
   "metadata": {},
   "outputs": [],
   "source": [
    "#Gêneros mais presentes no cluster 5\n",
    "fig = grafico_barras('5', cluster5kmodes, 'genres', 5)\n",
    "fig.show()"
   ]
  },
  {
   "cell_type": "code",
   "execution_count": null,
   "id": "c85d0f91-6a6a-4081-b885-41b2e33e4342",
   "metadata": {},
   "outputs": [],
   "source": [
    "#Línguas mais faladas no cluster 0\n",
    "fig = grafico_barras('0', cluster0kmodes, 'spoken_languages', 8)\n",
    "fig.show()"
   ]
  },
  {
   "cell_type": "code",
   "execution_count": null,
   "id": "9cb5d9e9-cacb-42ec-878a-b14c95f910ab",
   "metadata": {},
   "outputs": [],
   "source": [
    "#Línguas mais faladas no cluster 1\n",
    "fig = grafico_barras('1', cluster1kmodes, 'spoken_languages', 8)\n",
    "fig.show()"
   ]
  },
  {
   "cell_type": "code",
   "execution_count": null,
   "id": "03c2345a-edf8-4781-8f7a-5de249a4e372",
   "metadata": {},
   "outputs": [],
   "source": [
    "#Línguas mais faladas no cluster 2\n",
    "fig = grafico_barras('2', cluster2kmodes, 'spoken_languages', 8)\n",
    "fig.show()"
   ]
  },
  {
   "cell_type": "code",
   "execution_count": null,
   "id": "8e319a60-ac64-4985-805a-558dabe6dd47",
   "metadata": {},
   "outputs": [],
   "source": [
    "#Línguas mais faladas no cluster 3\n",
    "fig = grafico_barras('3', cluster3kmodes, 'spoken_languages', 8)\n",
    "fig.show()"
   ]
  },
  {
   "cell_type": "code",
   "execution_count": null,
   "id": "beef80ab-88bd-4b71-a54b-5acdee79c7ef",
   "metadata": {},
   "outputs": [],
   "source": [
    "#Línguas mais faladas no cluster 4\n",
    "fig = grafico_barras('4', cluster4kmodes, 'spoken_languages', 8)\n",
    "fig.show()"
   ]
  },
  {
   "cell_type": "code",
   "execution_count": null,
   "id": "5a78e8d3-e733-41a2-ad3a-99dd977bbec8",
   "metadata": {},
   "outputs": [],
   "source": [
    "#Línguas mais faladas no cluster 5\n",
    "fig = grafico_barras('5', cluster5kmodes, 'spoken_languages', 8)\n",
    "fig.show()"
   ]
  },
  {
   "cell_type": "code",
   "execution_count": null,
   "id": "b0d70068-1081-499a-a834-1cb35afbe476",
   "metadata": {},
   "outputs": [],
   "source": [
    "#Páises mais presentes no cluster 0\n",
    "fig = grafico_barras('0', cluster0kmodes, 'production_countries', 8)\n",
    "fig.show()"
   ]
  },
  {
   "cell_type": "code",
   "execution_count": null,
   "id": "86e0fd36-91f3-475e-8c3c-62eefe4e230d",
   "metadata": {},
   "outputs": [],
   "source": [
    "#Páises mais presentes no cluster 1\n",
    "fig = grafico_barras('1', cluster1kmodes, 'production_countries', 8)\n",
    "fig.show()"
   ]
  },
  {
   "cell_type": "code",
   "execution_count": null,
   "id": "a238db90-d189-42d5-ab49-784ed5d543a4",
   "metadata": {},
   "outputs": [],
   "source": [
    "#Páises mais presentes no cluster 2\n",
    "fig = grafico_barras('2', cluster2kmodes, 'production_countries', 8)\n",
    "fig.show()"
   ]
  },
  {
   "cell_type": "code",
   "execution_count": null,
   "id": "5c55950b-8898-4a3f-ae72-4116976944c4",
   "metadata": {},
   "outputs": [],
   "source": [
    "#Páises mais presentes no cluster 3\n",
    "fig = grafico_barras('3', cluster3kmodes, 'production_countries', 8)\n",
    "fig.show()"
   ]
  },
  {
   "cell_type": "code",
   "execution_count": null,
   "id": "b8eb11b3-511f-4d0d-910f-ff7535462bf2",
   "metadata": {},
   "outputs": [],
   "source": [
    "#Páises mais presentes no cluster 4\n",
    "fig = grafico_barras('4', cluster4kmodes, 'production_countries', 8)\n",
    "fig.show()"
   ]
  },
  {
   "cell_type": "code",
   "execution_count": null,
   "id": "4b39beb7-8869-4c1b-997d-4fd84a0bd57e",
   "metadata": {},
   "outputs": [],
   "source": [
    "#Páises mais presentes no cluster 5\n",
    "fig = grafico_barras('5', cluster5kmodes, 'production_countries', 8)\n",
    "fig.show()"
   ]
  },
  {
   "cell_type": "code",
   "execution_count": null,
   "id": "b4388a38-e0d6-4f55-a049-22b2f41f899c",
   "metadata": {},
   "outputs": [],
   "source": [
    "#Comparação de existência de lucro\n",
    "def contar_lucro (df):\n",
    "    return (df['revenue'] > df['budget']).sum() / ((df['revenue'] > df['budget']).sum() + (df['revenue'] < df['budget']).sum())"
   ]
  },
  {
   "cell_type": "code",
   "execution_count": null,
   "id": "bc287ce8-f8ed-48a4-b285-b6f1b1f97ee3",
   "metadata": {},
   "outputs": [],
   "source": [
    "#Quantidades de filmes que lucraram por cluster\n",
    "lucrou0 = contar_lucro(cluster0kmodes)\n",
    "lucrou1 = contar_lucro(cluster1kmodes)\n",
    "lucrou2 = contar_lucro(cluster2kmodes)\n",
    "lucrou3 = contar_lucro(cluster3kmodes)\n",
    "lucrou4 = contar_lucro(cluster4kmodes)\n",
    "lucrou5 = contar_lucro(cluster5kmodes)"
   ]
  },
  {
   "cell_type": "code",
   "execution_count": null,
   "id": "b09db331-b0da-43ac-8388-ba63f7a9d127",
   "metadata": {},
   "outputs": [],
   "source": [
    "#Porcentagem de filmes que lucraram por cluster\n",
    "\n",
    "dic_lucrou = {'Cluster' : ['0', '1', '2', '3', '4', '5'], 'Quantidade' : [lucrou0, lucrou1, lucrou2, lucrou3, lucrou4, lucrou5]}\n",
    "\n",
    "fig = go.Figure(\n",
    "    data=[go.Bar(\n",
    "        x=dic_lucrou['Cluster'], \n",
    "        y=dic_lucrou['Quantidade'], \n",
    "        marker_color=cores_cinema\n",
    "    )]\n",
    ")\n",
    "\n",
    "fig.update_layout(\n",
    "    title=\"Porcentagem de Filmes que Lucraram por Cluster\",\n",
    "    xaxis_title=\"Clusters\",\n",
    "    yaxis_title=\"Quantidade de Filmes\",\n",
    "    yaxis=dict(range=[0, 1])\n",
    ")\n",
    "\n",
    "fig.update_traces(hovertemplate='%{y:.1%}')\n",
    "\n",
    "fig.show()"
   ]
  },
  {
   "cell_type": "code",
   "execution_count": null,
   "id": "527be8d5-220b-4ee0-af09-1fdfcbd3c0ea",
   "metadata": {},
   "outputs": [],
   "source": [
    "#Investigando o cluster 5\n",
    "cluster5kmodes.describe()"
   ]
  },
  {
   "cell_type": "code",
   "execution_count": null,
   "id": "ecfc19bf",
   "metadata": {},
   "outputs": [],
   "source": [
    "# Dispersão K-Modes\n",
    "fig = px.scatter(dataset, x='budget', y='revenue', color=dataset['cluster'].astype(str),\n",
    "                 title=\"Clusters identificados pelo KModes\",\n",
    "                 labels={'cluster': 'Cluster', 'budget': 'Orçamento', 'revenue': 'Receita', 'color': 'Cluster'},\n",
    "                 hover_data=dataset.columns,\n",
    "                 color_discrete_sequence=cores_cinema)\n",
    "\n",
    "fig.show()"
   ]
  },
  {
   "cell_type": "code",
   "execution_count": null,
   "id": "2953d34e",
   "metadata": {},
   "outputs": [],
   "source": [
    "# Boxplot K-Modes\n",
    "fig = px.box(dataset, x='cluster', y='revenue', color='cluster',\n",
    "             title=\"Box Plot dos Clusters identificados pelo KModes\",\n",
    "             labels={'cluster': 'Cluster', 'revenue': 'Receita', 'color': 'Cluster'},\n",
    "             hover_data=dataset.columns,\n",
    "             color_discrete_sequence=cores_cinema)\n",
    "\n",
    "fig.show()"
   ]
  },
  {
   "cell_type": "code",
   "execution_count": null,
   "id": "458ebd9f-93f2-4cc4-a0cc-a717499cb671",
   "metadata": {},
   "outputs": [],
   "source": [
    "#Explorando os clusters provenientes do KMeans (clusterização dos dados numéricos)\n",
    "cluster0kmeans = dataset[dataset['clusters_n'] == 0]\n",
    "cluster1kmeans = dataset[dataset['clusters_n'] == 1]\n",
    "cluster2kmeans = dataset[dataset['clusters_n'] == 2]"
   ]
  },
  {
   "cell_type": "code",
   "execution_count": null,
   "id": "cec71fc0-f422-4606-ac8c-ed0463a14784",
   "metadata": {},
   "outputs": [],
   "source": [
    "#Gêneros mais presentes no cluster 0\n",
    "fig = grafico_barras('0', cluster0kmeans, 'genres', 5)\n",
    "fig.show()"
   ]
  },
  {
   "cell_type": "code",
   "execution_count": null,
   "id": "c1c01351-5ee6-4973-92ca-ecdb446777db",
   "metadata": {},
   "outputs": [],
   "source": [
    "#Gêneros mais presentes no cluster 1\n",
    "fig = grafico_barras('1', cluster1kmeans, 'genres', 5)\n",
    "fig.show()"
   ]
  },
  {
   "cell_type": "code",
   "execution_count": null,
   "id": "aaf442bc-66ab-4dca-9e42-2d12eda002bf",
   "metadata": {},
   "outputs": [],
   "source": [
    "#Gêneros mais presentes no cluster 2\n",
    "fig = grafico_barras('2', cluster2kmeans, 'genres', 5)\n",
    "fig.show()"
   ]
  },
  {
   "cell_type": "code",
   "execution_count": null,
   "id": "0d1010dd-c9e0-4b64-9941-3a92183dd1d9",
   "metadata": {},
   "outputs": [],
   "source": [
    "#Línguas mais faladas no cluster 0\n",
    "fig = grafico_barras('0', cluster0kmeans, 'spoken_languages', 8)\n",
    "fig.show()"
   ]
  },
  {
   "cell_type": "code",
   "execution_count": null,
   "id": "a37bce0c-6fc3-4ba1-b257-88e3698ea422",
   "metadata": {},
   "outputs": [],
   "source": [
    "#Línguas mais faladas no cluster 1\n",
    "fig = grafico_barras('1', cluster1kmeans, 'spoken_languages', 8)\n",
    "fig.show()"
   ]
  },
  {
   "cell_type": "code",
   "execution_count": null,
   "id": "a1b07059-4af3-4ae9-bccd-8d834f6b8082",
   "metadata": {},
   "outputs": [],
   "source": [
    "#Línguas mais faladas no cluster 2\n",
    "fig = grafico_barras('2', cluster2kmeans, 'spoken_languages', 8)\n",
    "fig.show()"
   ]
  },
  {
   "cell_type": "code",
   "execution_count": null,
   "id": "7b329eec-99e1-458c-b4d9-8aecdea5bb21",
   "metadata": {},
   "outputs": [],
   "source": [
    "#Países mais presentes no cluster 0\n",
    "fig = grafico_barras('0', cluster0kmeans, 'production_countries', 8)\n",
    "fig.show()"
   ]
  },
  {
   "cell_type": "code",
   "execution_count": null,
   "id": "81b293e3-be9c-4957-af87-1787c46bfaee",
   "metadata": {},
   "outputs": [],
   "source": [
    "#Países mais presentes no cluster 1\n",
    "fig = grafico_barras('1', cluster1kmeans, 'production_countries', 8)\n",
    "fig.show()"
   ]
  },
  {
   "cell_type": "code",
   "execution_count": null,
   "id": "3e463598-07ca-4e86-908e-124f21d90259",
   "metadata": {},
   "outputs": [],
   "source": [
    "#Países mais presentes no cluster 2\n",
    "fig = grafico_barras('2', cluster2kmeans, 'production_countries', 8)\n",
    "fig.show()"
   ]
  },
  {
   "cell_type": "code",
   "execution_count": null,
   "id": "d3d10518-b17a-4017-9557-3f2250bb4212",
   "metadata": {},
   "outputs": [],
   "source": [
    "#Porcentagem de filmes que lucraram por cluster\n",
    "lucrou0kmeans = contar_lucro(cluster0kmeans)\n",
    "lucrou1kmeans = contar_lucro(cluster1kmeans)\n",
    "lucrou2kmeans = contar_lucro(cluster2kmeans)"
   ]
  },
  {
   "cell_type": "code",
   "execution_count": null,
   "id": "725aefe2-4cf1-426b-9f4a-6350773429c7",
   "metadata": {},
   "outputs": [],
   "source": [
    "#Porcentagem de filmes que lucraram por cluster\n",
    "\n",
    "dic_lucrou = {'Cluster' : ['0', '1', '2', '3', '4', '5'], 'Quantidade' : [lucrou0kmeans, lucrou1kmeans, lucrou2kmeans]}\n",
    "\n",
    "fig = go.Figure(\n",
    "    data=[go.Bar(\n",
    "        x=dic_lucrou['Cluster'], \n",
    "        y=dic_lucrou['Quantidade'], \n",
    "        marker_color=cores_cinema\n",
    "    )]\n",
    ")\n",
    "\n",
    "fig.update_layout(\n",
    "    title=\"Porcentagem de Filmes que Lucraram por Cluster\",\n",
    "    xaxis_title=\"Clusters\",\n",
    "    yaxis_title=\"Quantidade de Filmes\",\n",
    "    yaxis=dict(range=[0, 1]),\n",
    ")\n",
    "\n",
    "fig.update_traces(hovertemplate='%{y:.1%}')\n",
    "\n",
    "fig.show()"
   ]
  },
  {
   "cell_type": "code",
   "execution_count": null,
   "id": "b7a45d71-e2ff-4766-9f1c-c422d3e668e7",
   "metadata": {},
   "outputs": [],
   "source": [
    "# Contando quantos registros pertencem a cada combinação de clusters\n",
    "heatmap_data = dataset.groupby(['cluster', 'clusters_n']).size().reset_index(name='Contagem')\n",
    "\n",
    "colorscale_cinema = [\n",
    "    [0.0, \"#0D0D0D\"],\n",
    "    [0.2, \"#383838\"],\n",
    "    [0.4, \"#FFC300\"],\n",
    "    [0.6, \"#E25822\"],\n",
    "    [0.8, \"#8B0000\"],\n",
    "    [1.0, \"#FF0000\"]\n",
    "]\n",
    "\n",
    "# Criando um heatmap para melhor observar a relação entre a clusterização categórica e a numérica\n",
    "\n",
    "heatmap_data['cluster'] = heatmap_data['cluster'].astype(str)\n",
    "heatmap_data['cluster_n'] = heatmap_data['clusters_n'].astype(str)\n",
    "\n",
    "fig = px.density_heatmap(\n",
    "    heatmap_data, \n",
    "    x='clusters_n', \n",
    "    y='cluster', \n",
    "    z='Contagem', \n",
    "    text_auto=True,\n",
    "    color_continuous_scale=colorscale_cinema,\n",
    "    category_orders={\"cluster\": sorted(heatmap_data['cluster'].unique())}  # Mantém a ordem correta\n",
    ")\n",
    "\n",
    "fig.show()"
   ]
  },
  {
   "cell_type": "code",
   "execution_count": null,
   "id": "660ae095-4bc8-4284-877b-b6995757f3ed",
   "metadata": {},
   "outputs": [],
   "source": [
    "#Porcentagem de lucro nas regiões do heatmap\n",
    "contagem_lucro_regioes = dataset.groupby(['cluster', 'clusters_n'], group_keys=False).apply(contar_lucro, include_groups=False).reset_index(name='porcentagem_lucro')"
   ]
  },
  {
   "cell_type": "code",
   "execution_count": null,
   "id": "39e75e3f-a40d-46a1-a16c-77267899930c",
   "metadata": {},
   "outputs": [],
   "source": [
    "contagem_lucro_regioes['categoria'] = contagem_lucro_regioes['cluster'].astype(str) + '-' + contagem_lucro_regioes['clusters_n'].astype(str)\n",
    "\n",
    "fig = px.bar(\n",
    "    contagem_lucro_regioes, \n",
    "    x='categoria', \n",
    "    y='porcentagem_lucro', \n",
    "    text='porcentagem_lucro',\n",
    "    labels={'categoria': 'Região do Heatmap', 'porcentagem_lucro': 'Porcentagem de Lucro'},\n",
    "    title='Porcentagem de Lucro por região no Heatmap',\n",
    "    color = 'categoria',\n",
    "    color_discrete_sequence = cores_cinema\n",
    ")\n",
    "\n",
    "fig.update_traces(texttemplate='%{text:.1%}', hovertemplate='%{y:.1%}')\n",
    "\n",
    "fig.show()"
   ]
  },
  {
   "cell_type": "code",
   "execution_count": null,
   "id": "d833f8cf",
   "metadata": {},
   "outputs": [],
   "source": [
    "#Dispersão KMeans\n",
    "fig = px.scatter(dataset, x='budget', y='revenue', color=dataset['clusters_n'].astype(str),\n",
    "                 title=\"Clusters identificados pelo K-Means\",\n",
    "                 labels={'cluster_n': 'Cluster', 'budget': 'Orçamento', 'revenue': 'Receita', 'color': 'Cluster'},\n",
    "                 hover_data=dataset.columns,\n",
    "                 color_discrete_sequence=cores_cinema)\n",
    "\n",
    "\n",
    "fig.show()"
   ]
  },
  {
   "cell_type": "code",
   "execution_count": null,
   "id": "93398425",
   "metadata": {},
   "outputs": [],
   "source": [
    "#Boxplot KMeans\n",
    "fig = px.box(dataset, x='clusters_n', y='revenue', color=dataset['clusters_n'].astype(str),\n",
    "                 title=\"Clusters identificados pelo K-Means\",\n",
    "                 labels={'cluster_n': 'Cluster', 'revenue': 'Receita', 'color': 'Cluster'},\n",
    "                 hover_data=dataset.columns,\n",
    "                 color_discrete_sequence=cores_cinema)\n",
    "\n",
    "fig.show()"
   ]
  }
 ],
 "metadata": {
  "kernelspec": {
   "display_name": "venv",
   "language": "python",
   "name": "python3"
  },
  "language_info": {
   "codemirror_mode": {
    "name": "ipython",
    "version": 3
   },
   "file_extension": ".py",
   "mimetype": "text/x-python",
   "name": "python",
   "nbconvert_exporter": "python",
   "pygments_lexer": "ipython3",
   "version": "3.12.7"
  }
 },
 "nbformat": 4,
 "nbformat_minor": 5
}
