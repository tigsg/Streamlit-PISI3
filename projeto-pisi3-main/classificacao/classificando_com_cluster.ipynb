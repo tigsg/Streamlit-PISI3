{
 "cells": [
  {
   "cell_type": "code",
   "execution_count": 23,
   "metadata": {},
   "outputs": [],
   "source": [
    "import pandas as pd\n",
    "\n",
    "dados = pd.read_parquet(\"df_com_clusters_atualizados.parquet\")"
   ]
  },
  {
   "cell_type": "code",
   "execution_count": 24,
   "metadata": {},
   "outputs": [],
   "source": [
    "# Lista de colunas a serem removidas\n",
    "colunas_para_remover = [\"release_date\", \"revenue\", \"budget\", \"genres\", \"original_language\", \n",
    "                        \"production_countries\", \"spoken_languages\", \"adult\", \n",
    "                        \"disponibilidade_lucro\", \"lucro\", \"runtime\", \"idade\"]\n",
    "\n",
    "dados = dados.drop(columns = colunas_para_remover)"
   ]
  },
  {
   "cell_type": "code",
   "execution_count": null,
   "metadata": {},
   "outputs": [],
   "source": [
    "import xgboost as xgb\n",
    "from sklearn.metrics import classification_report\n",
    "from sklearn.model_selection import train_test_split\n",
    "\n",
    "# Separando features (X) e target (y)\n",
    "X = dados.drop(columns=['classificacao'])\n",
    "y = dados['classificacao']\n",
    "\n",
    "# Dividindo os dados em treino e teste\n",
    "X_train, X_test, y_train, y_test = train_test_split(X, y, test_size=0.3, random_state=42, stratify=y)\n",
    "\n",
    "# Criando e treinando o modelo XGBoost\n",
    "xgb_model = xgb.XGBClassifier(use_label_encoder=False, eval_metric='logloss')\n",
    "xgb_model.fit(X_train, y_train)\n",
    "\n",
    "# Fazendo previsões\n",
    "y_train_pred = xgb_model.predict(X_train)\n",
    "y_test_pred = xgb_model.predict(X_test)\n",
    "\n",
    "# Printando o classification report\n",
    "print(\"Classification Report para Treino (XGBoost):\")\n",
    "print(classification_report(y_train, y_train_pred))\n",
    "\n",
    "print(\"\\nClassification Report para Teste (XGBoost):\")\n",
    "print(classification_report(y_test, y_test_pred))\n"
   ]
  },
  {
   "cell_type": "code",
   "execution_count": null,
   "metadata": {},
   "outputs": [],
   "source": [
    "from sklearn.svm import SVC\n",
    "from sklearn.metrics import classification_report\n",
    "import pandas as pd\n",
    "from sklearn.model_selection import train_test_split\n",
    "import shap\n",
    "import numpy as np\n",
    "\n",
    "# Separando features (X) e target (y)\n",
    "X = dados.drop(columns=['classificacao'])\n",
    "y = dados['classificacao']\n",
    "\n",
    "# Dividindo os dados em treino e teste\n",
    "X_train, X_test, y_train, y_test = train_test_split(X, y, test_size=0.3, random_state=42, stratify=y)\n",
    "\n",
    "# Criando e treinando o modelo SVM\n",
    "svm_model = SVC(kernel='rbf', C=1.0, gamma='scale')  # Removido probability=True\n",
    "svm_model.fit(X_train, y_train)\n",
    "\n",
    "# Fazendo previsões\n",
    "y_train_pred = svm_model.predict(X_train)\n",
    "y_test_pred = svm_model.predict(X_test)\n",
    "\n",
    "# Printando o classification report\n",
    "print(\"Classification Report para Treino (SVM):\")\n",
    "print(classification_report(y_train, y_train_pred))\n",
    "\n",
    "print(\"\\nClassification Report para Teste (SVM):\")\n",
    "print(classification_report(y_test, y_test_pred))\n",
    "\n",
    "# Aplicando SHAP para explicar as previsões usando KernelExplainer\n",
    "sample_data = X_train.sample(n=100, random_state=42)  # Amostragem para reduzir custo computacional\n",
    "explainer = shap.KernelExplainer(svm_model.predict, sample_data)\n",
    "shap_values = explainer.shap_values(X_test.sample(n=100, random_state=42))\n",
    "\n",
    "# Plotando a importância das features\n",
    "shap.summary_plot(shap_values, X_test.sample(n=100, random_state=42))\n"
   ]
  },
  {
   "cell_type": "code",
   "execution_count": null,
   "metadata": {},
   "outputs": [],
   "source": [
    "selected_countries = ['United States', 'France', 'United Kingdom', 'Germany', \n",
    "                      'Canada', 'Japan', 'China', 'India', 'Italy', 'Spain', \"United States of America\"]"
   ]
  },
  {
   "cell_type": "code",
   "execution_count": null,
   "metadata": {},
   "outputs": [],
   "source": []
  }
 ],
 "metadata": {
  "kernelspec": {
   "display_name": ".venv",
   "language": "python",
   "name": "python3"
  },
  "language_info": {
   "codemirror_mode": {
    "name": "ipython",
    "version": 3
   },
   "file_extension": ".py",
   "mimetype": "text/x-python",
   "name": "python",
   "nbconvert_exporter": "python",
   "pygments_lexer": "ipython3",
   "version": "3.8.10"
  }
 },
 "nbformat": 4,
 "nbformat_minor": 2
}
