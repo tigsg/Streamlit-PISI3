{
 "cells": [
  {
   "cell_type": "code",
   "execution_count": 139,
   "id": "40e13545-6aee-4f89-8812-f8fa6410f4e2",
   "metadata": {},
   "outputs": [],
   "source": [
    "#Tratamento do dados do dataset \"TMDB_movie_dataset_v11\"\n",
    "#Importando bibliotecas\n",
    "import pandas as pd\n",
    "import statistics as sts"
   ]
  },
  {
   "cell_type": "code",
   "execution_count": 141,
   "id": "f97b5aa7",
   "metadata": {},
   "outputs": [],
   "source": [
    "#Carregando dados\n",
    "dataset = pd.read_parquet(\"data/TMDB_movie_dataset_v11.parquet\")"
   ]
  },
  {
   "cell_type": "code",
   "execution_count": 142,
   "id": "9744f078-0601-4c4a-8d6c-eed958f0d9d8",
   "metadata": {},
   "outputs": [],
   "source": [
    "# Remover duplicatas, mantendo a primeira ocorrência de cada 'id'\n",
    "dataset = dataset.drop_duplicates(subset='id', keep='first')\n",
    "\n",
    "# Remover duplicatas, mantendo a primeira ocorrência de cada 'imdb_id'\n",
    "dataset = dataset.drop_duplicates(subset='imdb_id', keep='first')"
   ]
  },
  {
   "cell_type": "code",
   "execution_count": 143,
   "id": "3cc0cb54",
   "metadata": {},
   "outputs": [],
   "source": [
    "#Tratando de registros que são considerados filmes adultos (analisar pela coluna keywords)\n",
    "dataset = dataset[dataset['adult'] == False]"
   ]
  },
  {
   "cell_type": "code",
   "execution_count": 144,
   "id": "b1dd2cd5-5c38-4f6e-b7ae-1caf22e1c6bb",
   "metadata": {},
   "outputs": [],
   "source": [
    "#Tratando de Outliers\n",
    "#Tirando filmes com bilheteria maior que Avatar\n",
    "bilheteria_avatar = dataset.loc[dataset['title'] == 'Avatar', 'revenue'].values[0]\n",
    "dataset = dataset[dataset['revenue'] <= bilheteria_avatar]\n",
    "\n",
    "#Tirando filmes com valores negativos na bilheteria\n",
    "dataset = dataset[dataset['revenue'] >= 0]"
   ]
  },
  {
   "cell_type": "code",
   "execution_count": 146,
   "id": "508fa9e0",
   "metadata": {},
   "outputs": [],
   "source": [
    "#Removendo registros que possuem dados nulos nas colunas 'revenue', 'popularity' e 'vote_count' simultâneamente\n",
    "dataset = dataset[~((dataset['revenue'] == 0) & (dataset['popularity'] == 0) & (dataset['vote_count'] == 0))]"
   ]
  },
  {
   "cell_type": "code",
   "execution_count": 147,
   "id": "a3b0432a-0ac4-43f8-aa54-42f449eab40e",
   "metadata": {},
   "outputs": [],
   "source": [
    "#Tratando registros que não são considerados filmes (coluna keywords)\n",
    "keywords_pra_excluir = ['stand-up comedy', 'concert', 'opera','theater play']\n",
    "\n",
    "# Filtrar registros para manter apenas os que não contêm essas palavras-chave\n",
    "dataset = dataset[~dataset['keywords'].isin(keywords_pra_excluir)]\n"
   ]
  },
  {
   "cell_type": "code",
   "execution_count": 155,
   "id": "1d275e1b-3b24-4320-a37b-706ce1bca8db",
   "metadata": {},
   "outputs": [],
   "source": [
    "dataset['genres'] = dataset['genres'].fillna('nulo')\n"
   ]
  },
  {
   "cell_type": "code",
   "execution_count": null,
   "id": "b9c53823-18f1-4f31-ba6e-49d5ed7eca20",
   "metadata": {},
   "outputs": [],
   "source": []
  }
 ],
 "metadata": {
  "kernelspec": {
   "display_name": "Python 3 (ipykernel)",
   "language": "python",
   "name": "python3"
  },
  "language_info": {
   "codemirror_mode": {
    "name": "ipython",
    "version": 3
   },
   "file_extension": ".py",
   "mimetype": "text/x-python",
   "name": "python",
   "nbconvert_exporter": "python",
   "pygments_lexer": "ipython3",
   "version": "3.12.7"
  }
 },
 "nbformat": 4,
 "nbformat_minor": 5
}
